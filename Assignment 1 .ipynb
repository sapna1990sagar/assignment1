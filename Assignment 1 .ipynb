
    "Que1 --  Python language is devloped by 'Guido Van Rossune 
    
    "Que2 --  Python is interpreted programming language,supporting object oriented ,structured and 
    "functional programming 
    
    "Que3 --  Yes , Pyhton is a case -sensitive language when we are using identifiers like uppercase ,lowercase (Naming identifiers)
    
    "Que4 --  Python file extension is Untitled1.ipynb
    
    "Que 5--  Python code is interpreted 
    
    "Que 6--  the following are blocks : a module , a function body , class definition  and identation is used to define a bloack of code in python like (),{} etc
    
    "Que 7 --  '#' is used in python for single line comment like  
    "Python class is good "
    
    "Que8 --   We will use "!python"  to get python version 
    "output is Python 3.10.8
    
    "Que 9 --   Python supports the creation of anonymous function at run time , using a construct called "Lambda"
    
    "Que 10 --  Pip is package - management system written in python and is used to install and manage software packages 
    
    "Que 11--  In python , there are many built function like str(), dic(), list() , tuple(), set() , print(),type() etc 
    
    "Que12--  An identifier can have a maximum length of 79 characters in python.
    
    "Que13--  The main benefit of python language is Easy- to- learn  and Easy -to- use.
    "Now At this time Python extensively applied in Data science ,data analysis, machine learning ,web development , software developemt etc 
    
    "Que 14 -- Python memory is managed by python private heap space. All python objects and data structure are loacted in private heap 
    
    "Que 15 -- Step are given below for python installation 
    
    "step1 select version of python to install 
    "step2 download python executable installer 
    "step3 run executive installer 
    "step4 verified python is installed on windows 
    "step5 verify pip was installe
    
    "For path variable in python 
    
    "step1 Right click on my computer and click on properties 
    "step2 click on Advanced system setting 
    "step 3 click on enviroment variable tab
    "step4 write path in variable name 
    "step6 copy the path of python folder
    "step7 paste path of python in variable value , click on ok 
    
    
    "Que 16-- The identation id() in python is very important to indicate a block of code."
   

